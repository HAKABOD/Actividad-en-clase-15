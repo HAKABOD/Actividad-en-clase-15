{
  "nbformat": 4,
  "nbformat_minor": 0,
  "metadata": {
    "colab": {
      "provenance": [],
      "authorship_tag": "ABX9TyMmDK8TKDGLJgISmQ46enlL",
      "include_colab_link": true
    },
    "kernelspec": {
      "name": "python3",
      "display_name": "Python 3"
    },
    "language_info": {
      "name": "python"
    }
  },
  "cells": [
    {
      "cell_type": "markdown",
      "metadata": {
        "id": "view-in-github",
        "colab_type": "text"
      },
      "source": [
        "<a href=\"https://colab.research.google.com/github/HAKABOD/Actividad-en-clase-15/blob/main/Actividad_en_clase_ID_000544456_pynb.ipynb\" target=\"_parent\"><img src=\"https://colab.research.google.com/assets/colab-badge.svg\" alt=\"Open In Colab\"/></a>"
      ]
    },
    {
      "cell_type": "code",
      "source": [
        "import random\n",
        "import string\n",
        "import time\n",
        "import os\n",
        "\n",
        "def generate_grid(n):\n",
        "    values = list(string.ascii_letters + string.digits + \"@#$\") * (n * n // 4)\n",
        "    random.shuffle(values)\n",
        "    grid = []\n",
        "    for _ in range(n):\n",
        "        row = []\n",
        "        for _ in range(n):\n",
        "            row.append(random.choice(values))\n",
        "        grid.append(row)\n",
        "    return grid\n",
        "\n",
        "def display_grid(grid):\n",
        "    for row in grid:\n",
        "        print(\" \".join(row))\n",
        "\n",
        "def hide_value(grid, value):\n",
        "    for row in grid:\n",
        "        if value in row:\n",
        "            row[row.index(value)] = \"*\"\n",
        "            break\n",
        "\n",
        "def reveal_value(grid, value):\n",
        "    for row in grid:\n",
        "        if \"*\" in row:\n",
        "            row[row.index(\"*\")] = value\n",
        "\n",
        "def get_time_limit(n):\n",
        "    return max(3, 3 + 0.5 * (n - 3))\n",
        "\n",
        "def play_game():\n",
        "    n = int(input(\"Ingrese el tamaño o dimension de la cuadrícula (n*n): \"))\n",
        "    grid = generate_grid(n)\n",
        "\n",
        "    print(\"Memoria de Valores\\n\")\n",
        "    display_grid(grid)\n",
        "    time_limit = get_time_limit(n)\n",
        "    time.sleep(time_limit)\n",
        "    os.system('cls' if os.name == 'nt' else 'clear')\n",
        "    hidden_value = random.choice(grid[0])\n",
        "    hide_value(grid, hidden_value)\n",
        "\n",
        "    print(\"\\nEncuentra el valor oculto:\\n\")\n",
        "    display_grid(grid)\n",
        "    guess = input(\"\\nTu respuesta: \")\n",
        "    reveal_value(grid, hidden_value)\n",
        "    if guess == hidden_value:\n",
        "        print(\"¡Correcto! Has encontrado el valor oculto.\")\n",
        "    else:\n",
        "        print(f\"Incorrecto. El valor era {hidden_value}.\")\n",
        "\n",
        "def main():\n",
        "    while True:\n",
        "        play_game()\n",
        "\n",
        "if __name__ == \"__main__\":\n",
        "    main()\n"
      ],
      "metadata": {
        "id": "K6h2pOYhSH5t"
      },
      "execution_count": null,
      "outputs": []
    },
    {
      "cell_type": "code",
      "source": [],
      "metadata": {
        "id": "vdNtze0rTovN"
      },
      "execution_count": null,
      "outputs": []
    }
  ]
}