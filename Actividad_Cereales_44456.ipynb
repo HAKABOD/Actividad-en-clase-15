{
  "nbformat": 4,
  "nbformat_minor": 0,
  "metadata": {
    "colab": {
      "provenance": [],
      "authorship_tag": "ABX9TyPF/bZWzVW2sDJSQlYWzA6o",
      "include_colab_link": true
    },
    "kernelspec": {
      "name": "python3",
      "display_name": "Python 3"
    },
    "language_info": {
      "name": "python"
    }
  },
  "cells": [
    {
      "cell_type": "markdown",
      "metadata": {
        "id": "view-in-github",
        "colab_type": "text"
      },
      "source": [
        "<a href=\"https://colab.research.google.com/github/HAKABOD/Actividad-en-clase-15/blob/main/Actividad_Cereales_44456.ipynb\" target=\"_parent\"><img src=\"https://colab.research.google.com/assets/colab-badge.svg\" alt=\"Open In Colab\"/></a>"
      ]
    },
    {
      "cell_type": "code",
      "source": [
        "import numpy as np\n",
        "\n",
        "calorie_stats = np.genfromtxt('https://docs.google.com/spreadsheets/d/e/2PACX-1vR9TPfSyINHLPxCPjE-TZJs2oVoJFKYtBqnhDkQ7UKaicB7XtTD4jg3cAvypOs_eTT4iWt6v2zKOyne/pub?gid=32330190&single=true&output=csv', delimiter =\",\")\n",
        "\n",
        "average_calories = np.mean(calorie_stats)\n",
        "print(\"El promedio de calorías en la competencia es:\", (average_calories - 60))\n",
        "print(\"La media de calorías en la competencia es:\", average_calories)\n",
        "\n",
        "calorie_stats = np.sort(calorie_stats)\n",
        "print(\"Datos ordenados de menor a mayor:\", calorie_stats)\n",
        "median_calories = np.median(calorie_stats)\n",
        "print(\"La mediana de calorías en la competencia es:\", median_calories)\n",
        "\n",
        "std_calories = np.std(calorie_stats)\n",
        "print(\"La desviación estándar de calorías en la competencia es:\", std_calories)\n",
        "\n",
        "i = 0\n",
        "nth_percentile = 0\n",
        "while nth_percentile < 60:\n",
        "  nth_percentile = np.percentile(calorie_stats, i)\n",
        "  i += 1\n",
        "\n",
        "more_calories = (len(calorie_stats[calorie_stats > 60])) / len(calorie_stats) * 100\n",
        "\n",
        "calorie_std = np.std(calorie_stats)\n",
        "print(\"El percentil requerido es:\", i-1, \"con\", nth_percentile, \"calorías\")\n",
        "print()\n",
        "print(\"El porcentaje de productos con más de 60 calorías es:\", more_calories,\"%\")\n",
        "print()\n",
        "print(\"La desviación estándar es:\", calorie_std)"
      ],
      "metadata": {
        "colab": {
          "base_uri": "https://localhost:8080/"
        },
        "id": "iDT2TJJySeAM",
        "outputId": "7e7ee04a-ce24-484b-f9ba-66cb59e56ee7"
      },
      "execution_count": 5,
      "outputs": [
        {
          "output_type": "stream",
          "name": "stdout",
          "text": [
            "El promedio de calorías en la competencia es: 46.883116883116884\n",
            "La media de calorías en la competencia es: 106.88311688311688\n",
            "Datos ordenados de menor a mayor: [ 50.  50.  50.  70.  70.  80.  90.  90.  90.  90.  90.  90.  90. 100.\n",
            " 100. 100. 100. 100. 100. 100. 100. 100. 100. 100. 100. 100. 100. 100.\n",
            " 100. 100. 110. 110. 110. 110. 110. 110. 110. 110. 110. 110. 110. 110.\n",
            " 110. 110. 110. 110. 110. 110. 110. 110. 110. 110. 110. 110. 110. 110.\n",
            " 110. 110. 110. 120. 120. 120. 120. 120. 120. 120. 120. 120. 120. 130.\n",
            " 130. 140. 140. 140. 150. 150. 160.]\n",
            "La mediana de calorías en la competencia es: 110.0\n",
            "La desviación estándar de calorías en la competencia es: 19.35718533390827\n",
            "El percentil requerido es: 4 con 70.0 calorías\n",
            "\n",
            "El porcentaje de productos con más de 60 calorías es: 96.1038961038961 %\n",
            "\n",
            "La desviación estándar es: 19.35718533390827\n"
          ]
        }
      ]
    },
    {
      "cell_type": "markdown",
      "source": [
        "sebastian.julio@upb.edu.co\n",
        "ID 000544456\n",
        "Sebastian Julio Villalba"
      ],
      "metadata": {
        "id": "aizlUrHkStiN"
      }
    }
  ]
}